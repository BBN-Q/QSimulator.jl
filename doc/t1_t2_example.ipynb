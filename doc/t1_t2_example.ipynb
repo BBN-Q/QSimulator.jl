{
 "cells": [
  {
   "cell_type": "code",
   "execution_count": null,
   "metadata": {},
   "outputs": [],
   "source": [
    "using Plots\n",
    "# pyplot()\n",
    "plotly()\n",
    "\n",
    "using QSimulator\n",
    "\n",
    "using LsqFit"
   ]
  },
  {
   "cell_type": "markdown",
   "metadata": {},
   "source": [
    "# Fitting models to be used later"
   ]
  },
  {
   "cell_type": "code",
   "execution_count": null,
   "metadata": {},
   "outputs": [],
   "source": [
    "model_t2(x, p) = (exp.(-x ./ p[1]) .* cos.(2π .* p[2] .* x .- p[3]) + 1.0) / 2.0;\n",
    "\n",
    "model_t1(x, p) = exp.(-x ./ p[1]);"
   ]
  },
  {
   "cell_type": "markdown",
   "metadata": {},
   "source": [
    "# Bare Parameters for a 2 level system"
   ]
  },
  {
   "cell_type": "code",
   "execution_count": null,
   "metadata": {},
   "outputs": [],
   "source": [
    "Ω = .01 # microwave nutation frequency in GHz\n",
    "Tgate = 1 / 4Ω # time for a 90 degree pulse\n",
    "\n",
    "qubit_freq = 1.0\n",
    "\n",
    "q0 = FixedDuffingTransmon(\"q0\", qubit_freq, 0, 2);"
   ]
  },
  {
   "cell_type": "markdown",
   "metadata": {},
   "source": [
    "# Helper functions that \n",
    "### Build  a driven CompositeQSystem \n",
    "### Define a pulse that drives the system"
   ]
  },
  {
   "cell_type": "code",
   "execution_count": null,
   "metadata": {},
   "outputs": [],
   "source": [
    "square_pulse(ϕ) = t -> Ω * cos(2π * qubit_freq * t + ϕ)\n",
    "\n",
    "function make_cqs(lind_ops; rf_drive=false, ϕ=0)\n",
    "    cqs = CompositeQSystem([q0])\n",
    "    add_hamiltonian!(cqs, q0)\n",
    "    if rf_drive == true\n",
    "        add_hamiltonian!(cqs, microwave_drive(q0, square_pulse(ϕ)), q0)\n",
    "    end\n",
    "    for lind_op = lind_ops\n",
    "        add_lind_op!(cqs, lind_op, [q0])\n",
    "    end\n",
    "    \n",
    "    return cqs\n",
    "end;"
   ]
  },
  {
   "cell_type": "markdown",
   "metadata": {},
   "source": [
    "# A model of an experiment that measures T1 decay"
   ]
  },
  {
   "cell_type": "code",
   "execution_count": null,
   "metadata": {},
   "outputs": [],
   "source": [
    "T₁ = 500 # in ns\n",
    "γ₁ = 1. / T₁\n",
    "\n",
    "cqs = make_cqs([√γ₁ * lowering(q0)])\n",
    "\n",
    "ρ0 = Complex128[0 0; 0 1] # start in the excited state\n",
    "times = collect(linspace(0, 500, 101))\n",
    "ρs = me_state(cqs, times, ρ0)\n",
    "\n",
    "# extract ground and excited state populations\n",
    "ρgg = [real(s[1, 1]) for s in ρs]\n",
    "ρee = [real(s[2, 2]) for s in ρs]\n",
    "\n",
    "p0 = [100.] # starting guess of 100ns T₁\n",
    "fit = curve_fit(model_t1, times, ρee, p0)\n",
    "p_fit = fit.param\n",
    "\n",
    "println(\"Fit T₁ is $(round(Int,  p_fit[1]) / 1000.) μs\")\n",
    "\n",
    "p = plot(times, ρgg, label=\"Ground State Pop.\")\n",
    "plot!(p, times, ρee, label=\"Excited State Pop.\")\n",
    "plot!(p, times, model_t1(times, p_fit), label=\"Model Fit\", linestyle=:dash)\n",
    "xlabel!(p, \"Time (ns)\")"
   ]
  },
  {
   "cell_type": "markdown",
   "metadata": {},
   "source": [
    "# A model of a Ramsey experiment that calculates $T_ϕ$ from $T_2$"
   ]
  },
  {
   "cell_type": "code",
   "execution_count": null,
   "metadata": {},
   "outputs": [],
   "source": [
    "# Model T₁ decay and pure dephasing Tϕ\n",
    "T₁ = 10000 # in ns\n",
    "Tϕ = 3000\n",
    "\n",
    "γ₁ = 1.0 / T₁\n",
    "γϕ = 1.0 / Tϕ\n",
    "\n",
    "σz = Complex128[1 0; 0 -1]\n",
    "\n",
    "c_ops = [√γ₁ * lowering(q0), √γϕ * σz / √2] # cooling and dephasing Lindlbad operators\n",
    "\n",
    "cqs = make_cqs(c_ops, rf_drive=true)\n",
    "\n",
    "# First π/2 pulse\n",
    "ρ0 = Complex128[1 0; 0 0] # start in ground state\n",
    "ρ_X = me_state(cqs, Tgate, ρ0)\n",
    "\n",
    "# Free evolution\n",
    "cqs = make_cqs(c_ops, rf_drive=false)\n",
    "wait_times = collect(0:100:15000)\n",
    "ρs_free = me_state(cqs, wait_times, ρ_X)\n",
    "\n",
    "# Rate of phase accrual for the second pulse to imprint artificial detuning\n",
    "det = .5 / 1000\n",
    "\n",
    "t2_expt = Float64[]\n",
    "for (wait_time, ρ) = zip(wait_times, ρs_free)\n",
    "    ϕ = 2π * (qubit_freq - det) * wait_time\n",
    "    \n",
    "    # Second π/2 pulse\n",
    "    cqs = make_cqs(c_ops, rf_drive=true, ϕ=ϕ)\n",
    "    ρ_XX = me_state(cqs, Tgate, ρ)\n",
    "    \n",
    "    # Ground state probability\n",
    "    push!(t2_expt, real(ρ_XX[1, 1]))\n",
    "end\n",
    "\n",
    "p0 = [T₁, .5 / 1000., 0.0]\n",
    "fit = curve_fit(model_t2, wait_times, t2_expt, p0)\n",
    "p_fit = fit.param\n",
    "\n",
    "fit_Tϕ = 1/(1/p_fit[1] - 1 / 2T₁)\n",
    "print(\"Fit Tϕ is $(round(Int, fit_Tϕ) / 1000)\")\n",
    "\n",
    "p = plot(wait_times, t2_expt, label=\"Ground State Pop.\")\n",
    "plot!(p, wait_times, model_t2(wait_times, p_fit), label=\"Model Fit\", linestyle=:dash)\n",
    "xlabel!(p, \"Time (ns)\")"
   ]
  },
  {
   "cell_type": "code",
   "execution_count": null,
   "metadata": {},
   "outputs": [],
   "source": []
  }
 ],
 "metadata": {
  "kernelspec": {
   "display_name": "Julia 0.6.2",
   "language": "julia",
   "name": "julia-0.6"
  },
  "language_info": {
   "file_extension": ".jl",
   "mimetype": "application/julia",
   "name": "julia",
   "version": "0.6.2"
  }
 },
 "nbformat": 4,
 "nbformat_minor": 2
}
