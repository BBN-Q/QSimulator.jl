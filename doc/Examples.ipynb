{
 "cells": [
  {
   "cell_type": "code",
   "execution_count": null,
   "metadata": {},
   "outputs": [],
   "source": [
    "using Revise\n",
    "using Plots\n",
    "pyplot()\n",
    "# plotly()\n",
    "\n",
    "using QSimulator"
   ]
  },
  {
   "cell_type": "markdown",
   "metadata": {},
   "source": [
    "# Transmon Ramsey Oscillations\n",
    "\n",
    "Starting from a coherence between two energy eigenstates we expect oscilltions at the detuning between the energy levels.  We'll work with natural units of GHz and ns for numerical stability reasons. We'll start with a single 3 level transmon in the lab frame with a 5 GHz qubit frequency and -200 MHz anharmonicity."
   ]
  },
  {
   "cell_type": "code",
   "execution_count": null,
   "metadata": {},
   "outputs": [],
   "source": [
    "# we create a specific QSystem\n",
    "q0 = FixedDuffingTransmon(\"q0\", 5, -0.2, 3)\n",
    "# we can ask for the Hamiltonian of an QSystem as a Matrix\n",
    "hamiltonian(q0)"
   ]
  },
  {
   "cell_type": "code",
   "execution_count": null,
   "metadata": {},
   "outputs": [],
   "source": [
    "# as CompositeQSystems is a tensor product structure of QSystem's and is what all the solvers are built around\n",
    "cqs = CompositeQSystem([q0]);\n",
    "add_hamiltonian!(cqs, hamiltonian(q0), \"q0\")\n",
    "hamiltonian(cqs)"
   ]
  },
  {
   "cell_type": "code",
   "execution_count": null,
   "metadata": {
    "collapsed": true
   },
   "outputs": [],
   "source": [
    "# evolve an initial superpositions state for 1 ns\n",
    "times = collect(linspace(0,1,201))\n",
    "ψ0 = (1/sqrt(2)) * Complex128[1; 1; 0]\n",
    "ψs = unitary_state(cqs, times, ψ0);"
   ]
  },
  {
   "cell_type": "code",
   "execution_count": null,
   "metadata": {},
   "outputs": [],
   "source": [
    "# plot the projection on to the initial state and we expect to see 5 GHz oscillations\n",
    "signal = Float64[real(ψ0'*ψ) for ψ in ψs]\n",
    "expected = 0.5 + 0.5*cos.(2π*5 * (linspace(0,1,201)))\n",
    "p = plot(times, signal, linewidth=2, label=\"simulated\")\n",
    "plot!(p, times, expected, label=\"ideal\")\n",
    "xlabel!(p, \"Time (ns)\")"
   ]
  },
  {
   "cell_type": "markdown",
   "metadata": {},
   "source": [
    "# Rabi Oscillations\n",
    "\n",
    "Driving Rabi oscillations in the lab frame is a good example of a parametric time dependent Hamiltonian. The drive electric field couples to the transmon dipole or $X$ operator.\n",
    "\n",
    "## Constant Drive"
   ]
  },
  {
   "cell_type": "code",
   "execution_count": null,
   "metadata": {
    "collapsed": true
   },
   "outputs": [],
   "source": [
    "function qubit_drive(q::QSimulator.QSystem, drive::Function)\n",
    "    function add_drive_ham!(ham, idxs, t)\n",
    "        pulse = 2π * drive(t)\n",
    "        drive_ham = real(pulse) * X(q) + imag(pulse) * Y(q)\n",
    "        QSimulator.expand_add!(ham, drive_ham, idxs)\n",
    "    end\n",
    "end\n",
    "\n",
    "qubit_freq = 5.0\n",
    "q0 = FixedDuffingTransmon(\"q0\", qubit_freq, -0.2, 3)\n",
    "cqs = CompositeQSystem([q0]);\n",
    "add_hamiltonian!(cqs, hamiltonian(q0), \"q0\")\n",
    "add_hamiltonian!(cqs, qubit_drive(q0, t -> 0.02*cos(2π*qubit_freq * t)), q0);\n",
    "ψ_init = Complex128[1; 0; 0]\n",
    "times = collect(linspace(0,100,101))\n",
    "ψs = unitary_state(cqs, times, ψ_init);"
   ]
  },
  {
   "cell_type": "code",
   "execution_count": null,
   "metadata": {},
   "outputs": [],
   "source": [
    "p = plot(times, [abs2(s[1]) for s in ψs], label=\"Ground State Pop.\")\n",
    "plot!(p, times, [abs2(s[2]) for s in ψs], label=\"Excited State Pop.\")\n",
    "xlabel!(p, \"Time (ns)\")"
   ]
  },
  {
   "cell_type": "markdown",
   "metadata": {},
   "source": [
    "## Variable Amplitude Gaussian Pulse"
   ]
  },
  {
   "cell_type": "code",
   "execution_count": null,
   "metadata": {},
   "outputs": [],
   "source": [
    "# write a helper function that returns the drive Hamiltonian at a particular point in time\n",
    "function gaussian(pulse_length, pulse_freq, t; cutoff=2.5)\n",
    "    σ = pulse_length/2/cutoff\n",
    "    pulse = exp(-0.5*((t-pulse_length/2)/σ)^2)\n",
    "    pulse * cos(2π*pulse_freq * t)\n",
    "end\n",
    "\n",
    "function flat(pulse_freq,  t)\n",
    "   cos(2π*pulse_freq * t)\n",
    "end\n",
    "\n",
    "function qubit_drive(qubit::QSimulator.QSystem, drive::Function)\n",
    "    function add_drive_ham!(ham, idxs, t)\n",
    "        pulse = 2π * drive(t)\n",
    "        drive_ham = real(pulse) * X(qubit) + imag(pulse) * Y(qubit)\n",
    "        QSimulator.expand_add!(ham, drive_ham, idxs)\n",
    "    end\n",
    "end"
   ]
  },
  {
   "cell_type": "code",
   "execution_count": null,
   "metadata": {
    "collapsed": true
   },
   "outputs": [],
   "source": [
    "ψ0 = Complex128[1; 0; 0]\n",
    "states_flat = []\n",
    "states_gaussian = []\n",
    "amps = 0.05 * linspace(0,1, 51)\n",
    "pulse_length = 50.0\n",
    "qubit_freq = 5.0\n",
    "\n",
    "for amp = amps\n",
    "    # first do flat pulse\n",
    "    # three level transmon in the lab frame\n",
    "    q0 = FixedDuffingTransmon(\"q0\", qubit_freq, -0.2, 3)\n",
    "    cqs = CompositeQSystem([q0]);\n",
    "    add_hamiltonian!(cqs, hamiltonian(q0), \"q0\")\n",
    "    add_hamiltonian!(cqs, qubit_drive(q0, t -> amp*flat(qubit_freq, t)), q0);\n",
    "    ψs = unitary_state(cqs, [0, pulse_length], ψ0)\n",
    "    push!(states_flat, ψs[end])\n",
    "\n",
    "    # now gaussian\n",
    "    cqs = CompositeQSystem([q0]);\n",
    "    add_hamiltonian!(cqs, hamiltonian(q0), \"q0\")\n",
    "    add_hamiltonian!(cqs, qubit_drive(q0, t -> amp*gaussian(pulse_length, qubit_freq, t)), q0);\n",
    "    ψs = unitary_state(cqs, [0, pulse_length], ψ0)\n",
    "    push!(states_gaussian, ψs[end])\n",
    "end"
   ]
  },
  {
   "cell_type": "code",
   "execution_count": null,
   "metadata": {},
   "outputs": [],
   "source": [
    "p1 = plot(amps*1e3, [abs2(s[1]) for s in states_flat], label=\"Ground State Pop.\")\n",
    "plot!(p1, amps*1e3, [abs2(s[2]) for s in states_flat], label=\"Excited State Pop.\")\n",
    "plot!(p1, amps*1e3, [abs2(s[3]) for s in states_flat], label=\"Excited State Pop.\")\n",
    "xlabel!(p1, \"Nutation Strength (MHz)\")\n",
    "title!(p1, \"Flat Pulse\")\n",
    "p2 = plot(amps*1e3, [abs2(s[1]) for s in states_gaussian], label=\"Ground State Pop.\")\n",
    "plot!(p2, amps*1e3, [abs2(s[2]) for s in states_gaussian], label=\"Excited State Pop.\")\n",
    "plot!(p2, amps*1e3, [abs2(s[3]) for s in states_gaussian], label=\"Excited State Pop.\")\n",
    "xlabel!(p2, \"Peak Nutation Strength (MHz)\")\n",
    "title!(p2, \"Gaussian Pulse\")\n",
    "plot(p1,p2, layout=(1,2), size=(800,400))\n"
   ]
  },
  {
   "cell_type": "markdown",
   "metadata": {
    "collapsed": true
   },
   "source": [
    "# Two Qubit  Gates - Parametric Gates in the Lab Frame"
   ]
  },
  {
   "cell_type": "code",
   "execution_count": null,
   "metadata": {},
   "outputs": [],
   "source": [
    "# helper function to add flux drive\n",
    "function flux_drive(tt::QSimulator.QSystem, amp, freq)\n",
    "    function add_drive_ham!(ham, idxs, t)\n",
    "        tt_ham = 2π * hamiltonian(tt, amp*sin(2π * freq * t))\n",
    "        QSimulator.expand_add!(ham, tt_ham, idxs)\n",
    "    end\n",
    "end"
   ]
  },
  {
   "cell_type": "code",
   "execution_count": null,
   "metadata": {
    "collapsed": true
   },
   "outputs": [],
   "source": [
    "# parameters from Blue Launch paper\n",
    "q0 = FixedDuffingTransmon(\"q0\", 3.94015, -0.1807,  3)\n",
    "q1 = TunableDuffingTransmon(\"q1\",  0.172, 16.4, 0.55, 3)\n",
    "\n",
    "\n",
    "freqs = 117:0.25:127\n",
    "times = collect(0.0:5:1000)\n",
    "ψ0 = Complex128[0.0; 1.0; 0.0] ⊗ Complex128[1.0; 0.0; 0.0] # start in 10 state\n",
    "pop_01 = []\n",
    "pop_10 = []\n",
    "\n",
    "for freq = freqs\n",
    "    cqs = CompositeQSystem([q0, q1])\n",
    "    add_hamiltonian!(cqs, hamiltonian(q0), q0)\n",
    "    add_hamiltonian!(cqs, 0.006*Dipole(q0, q1), [q0,q1])\n",
    "    add_hamiltonian!(cqs, flux_drive(q1, 0.323, freq/1e3), q1)\n",
    "    ψs = unitary_state(cqs, times, ψ0);\n",
    "    push!(pop_01, [abs2(ψ[2]) for ψ in ψs])\n",
    "    push!(pop_10, [abs2(ψ[4]) for ψ in ψs])\n",
    "end"
   ]
  },
  {
   "cell_type": "code",
   "execution_count": null,
   "metadata": {},
   "outputs": [],
   "source": [
    "p1 = contour(freqs, times, cat(2, pop_01...), fill=true)\n",
    "p2 = contour(freqs, times, cat(2, pop_10...), fill=true)\n",
    "xlabel!(p2, \"Frequency (MHz)\")\n",
    "plot(p1,p2, layout=(2,1), size=(600,1000))"
   ]
  },
  {
   "cell_type": "code",
   "execution_count": null,
   "metadata": {},
   "outputs": [],
   "source": [
    "# Look more finely at a slice along time to show we are getting full contrast\n",
    "q0 = FixedDuffingTransmon(\"q0\", 3.94015, -0.1807,  3)\n",
    "q1 = TunableDuffingTransmon(\"q1\",  0.172, 16.4, 0.55, 3)\n",
    "\n",
    "\n",
    "# should get an iSWAP interaction at ≈ 122 MHz\n",
    "freq = 122.1\n",
    "times = collect(0.0:0.5:200)\n",
    "ψ0 = Complex128[0.0; 1.0; 0.0] ⊗ Complex128[1.0; 0.0; 0.0] # start in 10 state\n",
    "\n",
    "cqs = CompositeQSystem([q0, q1])\n",
    "add_hamiltonian!(cqs, hamiltonian(q0), q0)\n",
    "add_hamiltonian!(cqs, 0.006*Dipole(q0, q1), [q0,q1])\n",
    "add_hamiltonian!(cqs, flux_drive(q1, 0.323, freq/1e3), q1)\n",
    "ψs = unitary_state(cqs, times, ψ0);\n",
    "pop_01 = [abs2(ψ[2]) for ψ in ψs]\n",
    "pop_10 = [abs2(ψ[4]) for ψ in ψs];"
   ]
  },
  {
   "cell_type": "code",
   "execution_count": null,
   "metadata": {},
   "outputs": [],
   "source": [
    "p = plot(times, pop_01, label=\"01\")\n",
    "plot!(p, times, pop_10, label=\"10\")"
   ]
  },
  {
   "cell_type": "code",
   "execution_count": null,
   "metadata": {
    "collapsed": true
   },
   "outputs": [],
   "source": []
  }
 ],
 "metadata": {
  "kernelspec": {
   "display_name": "Julia 0.6.2",
   "language": "julia",
   "name": "julia-0.6"
  },
  "language_info": {
   "file_extension": ".jl",
   "mimetype": "application/julia",
   "name": "julia",
   "version": "0.6.2"
  }
 },
 "nbformat": 4,
 "nbformat_minor": 2
}
