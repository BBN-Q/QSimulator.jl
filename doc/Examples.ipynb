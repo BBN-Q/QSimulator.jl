{
 "cells": [
  {
   "cell_type": "code",
   "execution_count": null,
   "metadata": {},
   "outputs": [],
   "source": [
    "using Revise\n",
    "using Plots\n",
    "plotly()\n",
    "\n",
    "using QSimulator"
   ]
  },
  {
   "cell_type": "markdown",
   "metadata": {},
   "source": [
    "# Transmon Ramsey Oscillations\n",
    "\n",
    "Starting from a coherence between two energy eigenstates we expect oscilltions at the detuning between the energy levels.  We'll work with natural units of GHz and ns for numerical stability reasons. We'll start with a single 3 level transmon in the lab frame with a 5 GHz qubit frequency and -200 MHz anharmonicity."
   ]
  },
  {
   "cell_type": "code",
   "execution_count": null,
   "metadata": {},
   "outputs": [],
   "source": [
    "# we create a specific QSystem\n",
    "q0 = FixedDuffingTransmon(\"q0\", 5, -0.2, 3)\n",
    "# we can ask for the Hamiltonian of an QSystem as a Matrix\n",
    "hamiltonian(q0)"
   ]
  },
  {
   "cell_type": "code",
   "execution_count": null,
   "metadata": {},
   "outputs": [],
   "source": [
    "# as CompositeQSystems is a tensor product structure of QSystem's and is what all the solvers are built around\n",
    "cqs = CompositeQSystem([q0]);\n",
    "add_hamiltonian!(cqs, hamiltonian(q0), \"q0\")\n",
    "hamiltonian(cqs)"
   ]
  },
  {
   "cell_type": "code",
   "execution_count": null,
   "metadata": {
    "collapsed": true
   },
   "outputs": [],
   "source": [
    "# evolve an initial superpositions state for 1 ns\n",
    "times = collect(linspace(0,1,201))\n",
    "ψ0 = (1/sqrt(2)) * Complex128[1; 1; 0]\n",
    "ψs = unitary_state(cqs, times, ψ0);"
   ]
  },
  {
   "cell_type": "code",
   "execution_count": null,
   "metadata": {},
   "outputs": [],
   "source": [
    "# plot the projection on to the initial state and we expect to see 5 GHz oscillations\n",
    "signal = Float64[real(ψ0'*ψ) for ψ in ψs]\n",
    "expected = 0.5 + 0.5*cos.(2π*5 * (linspace(0,1,201)))\n",
    "p = plot(times, signal, linewidth=2, label=\"simulated\")\n",
    "plot!(p, times, expected, label=\"ideal\")\n",
    "xlabel!(p, \"Time (ns)\")"
   ]
  },
  {
   "cell_type": "markdown",
   "metadata": {},
   "source": [
    "# Rabi Oscillations\n",
    "\n",
    "Driving Rabi oscillations in the lab frame is a good example of a parametric time dependent Hamiltonian. The drive electric field couples to the transmon dipole or $X$ operator.\n",
    "\n",
    "## Constant Drive"
   ]
  },
  {
   "cell_type": "code",
   "execution_count": null,
   "metadata": {
    "collapsed": true
   },
   "outputs": [],
   "source": [
    "function qubit_drive(q::QSimulator.QSystem, drive::Function)\n",
    "    function add_drive_ham!(ham, idxs, t)\n",
    "        pulse = 2π * drive(t)\n",
    "        drive_ham = real(pulse) * X(q) + imag(pulse) * Y(q)\n",
    "        QSimulator.expand_add!(ham, drive_ham, idxs)\n",
    "    end\n",
    "end\n",
    "\n",
    "qubit_freq = 5.0\n",
    "q0 = FixedDuffingTransmon(\"q0\", qubit_freq, -0.2, 3)\n",
    "cqs = CompositeQSystem([q0]);\n",
    "add_hamiltonian!(cqs, hamiltonian(q0), \"q0\")\n",
    "add_hamiltonian!(cqs, qubit_drive(q0, t -> 0.02*cos(2π*qubit_freq * t)), q0);\n",
    "ψ_init = Complex128[1; 0; 0]\n",
    "times = collect(linspace(0,100,101))\n",
    "ψs = unitary_state(cqs, times, ψ_init);"
   ]
  },
  {
   "cell_type": "code",
   "execution_count": null,
   "metadata": {},
   "outputs": [],
   "source": [
    "p = plot(times, [abs2(s[1]) for s in ψs], label=\"Ground State Pop.\")\n",
    "plot!(p, times, [abs2(s[2]) for s in ψs], label=\"Excited State Pop.\")\n",
    "xlabel!(p, \"Time (ns)\")"
   ]
  },
  {
   "cell_type": "markdown",
   "metadata": {},
   "source": [
    "## Variable Amplitude Gaussian Pulse"
   ]
  },
  {
   "cell_type": "code",
   "execution_count": null,
   "metadata": {},
   "outputs": [],
   "source": [
    "# write a helper function that returns the drive Hamiltonian at a particular point in time\n",
    "function gaussian(pulse_length, pulse_freq, t; cutoff=2.5)\n",
    "    σ = pulse_length/2/cutoff\n",
    "    pulse = exp(-0.5*((t-pulse_length/2)/σ)^2)\n",
    "    pulse * cos(2π*pulse_freq * t)\n",
    "end\n",
    "\n",
    "function flat(pulse_freq,  t)\n",
    "   cos(2π*pulse_freq * t)\n",
    "end\n",
    "\n",
    "function qubit_drive(qubit::QSimulator.QSystem, drive::Function)\n",
    "    function add_drive_ham!(ham, idxs, t)\n",
    "        pulse = 2π * drive(t)\n",
    "        drive_ham = real(pulse) * X(qubit) + imag(pulse) * Y(qubit)\n",
    "        QSimulator.expand_add!(ham, drive_ham, idxs)\n",
    "    end\n",
    "end"
   ]
  },
  {
   "cell_type": "code",
   "execution_count": null,
   "metadata": {},
   "outputs": [],
   "source": [
    "ψ0 = Complex128[1; 0; 0]\n",
    "states = []\n",
    "amps = 0.05 * linspace(0,1, 51)\n",
    "pulse_length = 50.0\n",
    "for amp = amps\n",
    "    # three level transmon in the lab frame\n",
    "    q0 = FixedDuffingTransmon(\"q0\", 5, -0.2, 3)\n",
    "    cqs = CompositeQSystem([q0]);\n",
    "    add_hamiltonian!(cqs, hamiltonian(q0), \"q0\")\n",
    "#     add_hamiltonian!(cqs, qubit_drive(q0, t -> amp*gaussian(pulse_length, 5.0, t)), q0);\n",
    "    add_hamiltonian!(cqs, qubit_drive(q0, t -> amp*flat(5.0, t)), q0);\n",
    "    ψs = unitary_state(cqs, [0, pulse_length], ψ0)\n",
    "    push!(states, ψs[end])\n",
    "end"
   ]
  },
  {
   "cell_type": "code",
   "execution_count": null,
   "metadata": {},
   "outputs": [],
   "source": [
    "p = plot(amps*1e3, [abs2(s[1]) for s in states], label=\"Ground State Pop.\")\n",
    "plot!(p, amps*1e3, [abs2(s[2]) for s in states], label=\"Excited State Pop.\")\n",
    "xlabel!(p, \"Peak Nutation Strength (MHz)\")"
   ]
  },
  {
   "cell_type": "code",
   "execution_count": null,
   "metadata": {
    "collapsed": true
   },
   "outputs": [],
   "source": []
  }
 ],
 "metadata": {
  "kernelspec": {
   "display_name": "Julia 0.6.2",
   "language": "julia",
   "name": "julia-0.6"
  },
  "language_info": {
   "file_extension": ".jl",
   "mimetype": "application/julia",
   "name": "julia",
   "version": "0.6.2"
  }
 },
 "nbformat": 4,
 "nbformat_minor": 2
}
