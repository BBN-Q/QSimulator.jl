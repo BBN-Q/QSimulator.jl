{
 "cells": [
  {
   "cell_type": "code",
   "execution_count": null,
   "metadata": {},
   "outputs": [],
   "source": [
    "using Revise\n",
    "using Plots\n",
    "# pyplot()\n",
    "plotly()\n",
    "\n",
    "using QSimulator"
   ]
  },
  {
   "cell_type": "markdown",
   "metadata": {},
   "source": [
    "# Transmon Ramsey Oscillations\n",
    "\n",
    "Starting from a coherence between two energy eigenstates we expect oscilltions at the detuning between the energy levels.  We'll work with natural units of GHz and ns for numerical stability reasons. We'll start with a single 3 level transmon in the lab frame with a 5 GHz qubit frequency and -200 MHz anharmonicity."
   ]
  },
  {
   "cell_type": "code",
   "execution_count": null,
   "metadata": {},
   "outputs": [],
   "source": [
    "# we create a specific QSystem\n",
    "q0 = FixedDuffingTransmon(\"q0\", 5, -0.2, 3)\n",
    "# we can ask for the Hamiltonian of an QSystem as a Matrix\n",
    "hamiltonian(q0)"
   ]
  },
  {
   "cell_type": "code",
   "execution_count": null,
   "metadata": {},
   "outputs": [],
   "source": [
    "# as CompositeQSystems is a tensor product structure of QSystem's and is what all the solvers are built around\n",
    "cqs = CompositeQSystem([q0]);\n",
    "add_hamiltonian!(cqs, q0)\n",
    "hamiltonian(cqs)"
   ]
  },
  {
   "cell_type": "code",
   "execution_count": null,
   "metadata": {},
   "outputs": [],
   "source": [
    "# evolve an initial superposition state for 1 ns\n",
    "times = collect(linspace(0,1,201))\n",
    "ψ0 = (1/sqrt(2)) * Complex128[1; 1; 0]\n",
    "ψs = unitary_state(cqs, times, ψ0);"
   ]
  },
  {
   "cell_type": "code",
   "execution_count": null,
   "metadata": {},
   "outputs": [],
   "source": [
    "# plot the projection on to the initial state and we expect to see 5 GHz oscillations\n",
    "signal = Float64[real(ψ0'*ψ) for ψ in ψs]\n",
    "expected = 0.5 + 0.5*cos.(2π*5 * (linspace(0,1,201)))\n",
    "p = plot(times, signal, linewidth=2, label=\"simulated\")\n",
    "plot!(p, times, expected, label=\"ideal\")\n",
    "xlabel!(p, \"Time (ns)\")"
   ]
  },
  {
   "cell_type": "markdown",
   "metadata": {},
   "source": [
    "# Rabi Oscillations\n",
    "\n",
    "Driving Rabi oscillations in the lab frame is a good example of a parametric time dependent Hamiltonian. The drive electric field couples to the transmon dipole or $X$ operator.\n",
    "\n",
    "## Constant Drive"
   ]
  },
  {
   "cell_type": "code",
   "execution_count": null,
   "metadata": {},
   "outputs": [],
   "source": [
    "qubit_freq = 5.0\n",
    "q0 = FixedDuffingTransmon(\"q0\", qubit_freq, -0.2, 3)\n",
    "cqs = CompositeQSystem([q0]);\n",
    "add_hamiltonian!(cqs, q0)\n",
    "add_hamiltonian!(cqs, microwave_drive(q0, t -> 0.02*cos(2π*qubit_freq * t)), q0);\n",
    "ψ_init = Complex128[1; 0; 0]\n",
    "times = collect(linspace(0,100,101))\n",
    "ψs = unitary_state(cqs, times, ψ_init);"
   ]
  },
  {
   "cell_type": "code",
   "execution_count": null,
   "metadata": {},
   "outputs": [],
   "source": [
    "p = plot(times, [abs2(s[1]) for s in ψs], label=\"Ground State Pop.\")\n",
    "plot!(p, times, [abs2(s[2]) for s in ψs], label=\"Excited State Pop.\")\n",
    "xlabel!(p, \"Time (ns)\")"
   ]
  },
  {
   "cell_type": "markdown",
   "metadata": {},
   "source": [
    "## Variable Amplitude Gaussian Pulse"
   ]
  },
  {
   "cell_type": "code",
   "execution_count": null,
   "metadata": {},
   "outputs": [],
   "source": [
    "# write a helper function that returns the drive Hamiltonian at a particular point in time\n",
    "function gaussian(pulse_length, pulse_freq, t; cutoff=2.5)\n",
    "    σ = pulse_length/2/cutoff\n",
    "    pulse = exp(-0.5*((t-pulse_length/2)/σ)^2)\n",
    "    pulse * cos(2π*pulse_freq * t)\n",
    "end\n",
    "\n",
    "function flat(pulse_freq,  t)\n",
    "   cos(2π*pulse_freq * t)\n",
    "end"
   ]
  },
  {
   "cell_type": "code",
   "execution_count": null,
   "metadata": {},
   "outputs": [],
   "source": [
    "ψ0 = Complex128[1; 0; 0]\n",
    "states_flat = []\n",
    "states_gaussian = []\n",
    "amps = 0.1 * linspace(0,1, 51)\n",
    "pulse_length = 25.0\n",
    "qubit_freq = 5.0\n",
    "\n",
    "for amp = amps\n",
    "    # first do flat pulse\n",
    "    # three level transmon in the lab frame\n",
    "    q0 = FixedDuffingTransmon(\"q0\", qubit_freq, -0.2, 3)\n",
    "    cqs = CompositeQSystem([q0]);\n",
    "    add_hamiltonian!(cqs, q0)\n",
    "    add_hamiltonian!(cqs, microwave_drive(q0, t -> amp*flat(qubit_freq, t)), q0);\n",
    "    ψs = unitary_state(cqs, [0, pulse_length], ψ0)\n",
    "    push!(states_flat, ψs[end])\n",
    "\n",
    "    # now gaussian\n",
    "    cqs = CompositeQSystem([q0]);\n",
    "    add_hamiltonian!(cqs, q0)\n",
    "    add_hamiltonian!(cqs, microwave_drive(q0, t -> amp*gaussian(pulse_length, qubit_freq, t)), q0);\n",
    "    ψs = unitary_state(cqs, [0, pulse_length], ψ0)\n",
    "    push!(states_gaussian, ψs[end])\n",
    "end"
   ]
  },
  {
   "cell_type": "code",
   "execution_count": null,
   "metadata": {},
   "outputs": [],
   "source": [
    "p1 = plot()\n",
    "for ct = 0:2\n",
    "    plot!(p1, amps*1e3, [abs2(s[ct+1]) for s in states_flat], label=\"$ct State Pop.\")\n",
    "end\n",
    "xlabel!(p1, \"Nutation Strength (MHz)\")\n",
    "title!(p1, \"Flat Pulse\")\n",
    "p2 = plot()\n",
    "for ct = 0:2\n",
    "    plot!(p2, amps*1e3, [abs2(s[ct+1]) for s in states_gaussian], label=\"$ct State Pop.\")\n",
    "end\n",
    "xlabel!(p2, \"Peak Nutation Strength (MHz)\")\n",
    "title!(p2, \"Gaussian Pulse\")\n",
    "plot(p1,p2, layout=(1,2), size=(800,400))\n"
   ]
  },
  {
   "cell_type": "markdown",
   "metadata": {
    "collapsed": true
   },
   "source": [
    "# Two Qubit  Gates - Parametric Gates in the Lab Frame\n",
    "\n",
    "$$ \\mathcal{H}(t) = \\omega_0 \\hat{n}_0 + \\Delta_0 \\Pi_{2_0} + \\omega_1(t)\\hat{n}_1 + \\Delta_1 \\Pi_{2_1} + gX_0X_1$$\n",
    "\n",
    "## iSWAP"
   ]
  },
  {
   "cell_type": "code",
   "execution_count": null,
   "metadata": {},
   "outputs": [],
   "source": [
    "# parameters from Blue Launch paper\n",
    "q0 = FixedDuffingTransmon(\"q0\", 3.94015, -0.1807,  3)\n",
    "q1 = TunableDuffingTransmon(\"q1\",  0.172, 16.4, 0.55, 3)\n",
    "\n",
    "freqs = 117:0.5:127\n",
    "times = collect(0.0:5:1000)\n",
    "ψ0 = Complex128[0.0; 1.0; 0.0] ⊗ Complex128[1.0; 0.0; 0.0] # start in 10 state\n",
    "pop_01 = []\n",
    "pop_10 = []\n",
    "\n",
    "amp = 0.323\n",
    "\n",
    "for freq = freqs\n",
    "    cqs = CompositeQSystem([q0, q1])\n",
    "    add_hamiltonian!(cqs, q0)\n",
    "    add_hamiltonian!(cqs, 0.006*dipole(q0, q1), [q0,q1])\n",
    "    add_hamiltonian!(cqs, flux_drive(q1, t -> amp*sin(2π*freq/1e3*t)), q1)\n",
    "    ψs = unitary_state(cqs, times, ψ0);\n",
    "    push!(pop_01, [abs2(ψ[2]) for ψ in ψs])\n",
    "    push!(pop_10, [abs2(ψ[4]) for ψ in ψs])\n",
    "end"
   ]
  },
  {
   "cell_type": "code",
   "execution_count": null,
   "metadata": {},
   "outputs": [],
   "source": [
    "p1 = contour(freqs, times, cat(2, pop_01...), fill=true)\n",
    "xlabel!(p1, \"Frequency (MHz)\")\n",
    "ylabel!(p1, \"Time (ns)\")\n",
    "p2 = contour(freqs, times, cat(2, pop_10...), fill=true)\n",
    "xlabel!(p2, \"Frequency (MHz)\")\n",
    "plot(p1,p2, layout=(1,2), size=(600,300))"
   ]
  },
  {
   "cell_type": "markdown",
   "metadata": {},
   "source": [
    "# CZ02"
   ]
  },
  {
   "cell_type": "code",
   "execution_count": null,
   "metadata": {},
   "outputs": [],
   "source": [
    "# parameters from Blue Launch paper\n",
    "q0 = FixedDuffingTransmon(\"q0\", 3.94015, -0.1807,  3)\n",
    "q1 = TunableDuffingTransmon(\"q1\",  0.172, 16.4, 0.55, 3)\n",
    "\n",
    "freqs = 110:0.5:120\n",
    "times = collect(0.0:5:1000)\n",
    "ψ0 = Complex128[0.0; 1.0; 0.0] ⊗ Complex128[0.0; 1.0; 0.0] # start in 11 state\n",
    "pop_11 = []\n",
    "pop_02 = []\n",
    "\n",
    "amp = 0.245\n",
    "\n",
    "for freq = freqs\n",
    "    cqs = CompositeQSystem([q0, q1])\n",
    "    add_hamiltonian!(cqs, q0)\n",
    "    add_hamiltonian!(cqs, 0.006*dipole(q0, q1), [q0,q1])\n",
    "    add_hamiltonian!(cqs, flux_drive(q1, t -> amp*sin(2π*freq/1e3*t)), q1)\n",
    "    ψs = unitary_state(cqs, times, ψ0);\n",
    "    push!(pop_11, [abs2(ψ[5]) for ψ in ψs])\n",
    "    push!(pop_02, [abs2(ψ[3]) for ψ in ψs])\n",
    "end\n",
    "pop_11 = cat(2, pop_11...)\n",
    "pop_02 = cat(2, pop_02...);"
   ]
  },
  {
   "cell_type": "code",
   "execution_count": null,
   "metadata": {},
   "outputs": [],
   "source": [
    "p1 = contour(freqs, times, pop_11, fill=true)\n",
    "xlabel!(p1, \"Frequency (MHz)\")\n",
    "ylabel!(p1, \"Time (ns)\")\n",
    "p2 = contour(freqs, times, pop_02, fill=true)\n",
    "xlabel!(p2, \"Frequency (MHz)\")\n",
    "plot(p1,p2, layout=(1,2), size=(600,300))"
   ]
  },
  {
   "cell_type": "code",
   "execution_count": null,
   "metadata": {},
   "outputs": [],
   "source": [
    "# Look more finely at a slice along time to show we are getting full contrast and look at lab frame jaggedness\n",
    "q0 = FixedDuffingTransmon(\"q0\", 3.94015, -0.1807,  3)\n",
    "q1 = TunableDuffingTransmon(\"q1\",  0.172, 16.4, 0.55, 3)\n",
    "\n",
    "# should get an iSWAP interaction at ≈ 122 MHz\n",
    "freq = 122.1/1e3\n",
    "amp = 0.323\n",
    "times = collect(0:200)\n",
    "ψ0 = Complex128[0.0; 1.0; 0.0] ⊗ Complex128[1.0; 0.0; 0.0] # start in 10 state\n",
    "\n",
    "cqs = CompositeQSystem([q0, q1])\n",
    "add_hamiltonian!(cqs, q0)\n",
    "add_hamiltonian!(cqs, 0.006*dipole(q0, q1), [q0,q1])\n",
    "add_hamiltonian!(cqs, flux_drive(q1, t -> amp*sin(2π*freq*t)), q1)\n",
    "ψs = unitary_state(cqs, times, ψ0);\n",
    "pop_01 = [abs2(ψ[2]) for ψ in ψs]\n",
    "pop_10 = [abs2(ψ[4]) for ψ in ψs];"
   ]
  },
  {
   "cell_type": "code",
   "execution_count": null,
   "metadata": {},
   "outputs": [],
   "source": [
    "p = plot(times, pop_01, label=\"01\")\n",
    "plot!(p, times, pop_10, label=\"10\")"
   ]
  },
  {
   "cell_type": "markdown",
   "metadata": {
    "collapsed": true
   },
   "source": [
    "# Two Qubit  Gates - Parametric Gates in the Rotating Frame\n",
    "\n",
    "We can move into the doubly rotating frame. The dipole coupling becomes time dependent and we discard the flip-flip (flop-flop) terms in the Hamiltonian.\n",
    "\n",
    "$$ \\mathcal{H}(t) =  \\Delta_0 \\Pi_{2_0} + \\omega_1(t)\\hat{n}_1 + \\Delta_1 \\Pi_{2_1} - \\omega_1(0)\\hat{n}_1 + e^{i\\delta t}\\sigma_+\\sigma_- + e^{-i\\delta t}\\sigma_-\\sigma_+$$"
   ]
  },
  {
   "cell_type": "code",
   "execution_count": null,
   "metadata": {},
   "outputs": [],
   "source": [
    "q0 = FixedDuffingTransmon(\"q0\", 3.94015, -0.1807,  3)\n",
    "q1 = TunableDuffingTransmon(\"q1\",  0.172, 16.4, 0.55, 3)\n",
    "\n",
    "# should get an iSWAP interaction at ≈ 122 MHz\n",
    "freq = 122.1/1e3\n",
    "amp = 0.323\n",
    "times = collect(0:200)\n",
    "ψ0 = Complex128[0.0; 1.0; 0.0] ⊗ Complex128[1.0; 0.0; 0.0] # start in 10 state\n",
    "\n",
    "cqs = CompositeQSystem([q0, q1])\n",
    "add_hamiltonian!(cqs, q0)\n",
    "# add rotating frame Hamiltonian shifts\n",
    "add_hamiltonian!(cqs, -q0.frequency*number(q0), q0)\n",
    "q1_freq = hamiltonian(q1, 0.0)[2,2]\n",
    "add_hamiltonian!(cqs, -q1_freq*number(q1), q1)\n",
    "\n",
    "diff_freq = q0.frequency - q1_freq\n",
    "add_hamiltonian!(cqs,\n",
    "                (ham,idxs,t) -> QSimulator.embed_add!(ham, (2π*0.006)*flip_flop(q0,q1; ϕ=diff_freq*t), idxs),\n",
    "                [q0,q1])\n",
    "add_hamiltonian!(cqs, flux_drive(q1, t -> amp*sin(2π*freq*t)), q1)\n",
    "\n",
    "ψs = unitary_state(cqs, times, ψ0);\n",
    "pop_01 = [abs2(ψ[2]) for ψ in ψs]\n",
    "pop_10 = [abs2(ψ[4]) for ψ in ψs];"
   ]
  },
  {
   "cell_type": "code",
   "execution_count": null,
   "metadata": {},
   "outputs": [],
   "source": [
    "p = plot(times, pop_01, label=\"01\")\n",
    "plot!(p, times, pop_10, label=\"10\")"
   ]
  },
  {
   "cell_type": "code",
   "execution_count": null,
   "metadata": {},
   "outputs": [],
   "source": [
    "q0 = FixedDuffingTransmon(\"q0\", 3.94015, -0.1807,  3)\n",
    "q1 = TunableDuffingTransmon(\"q1\",  0.172, 16.4, 0.55, 3)\n",
    "\n",
    "# should get an CZ02 interaction at ≈ 115 MHz\n",
    "freq = 115.5/1e3\n",
    "amp = 0.245\n",
    "times = collect(0:0.5:200)\n",
    "ψ0 = Complex128[0.0; 1.0; 0.0] ⊗ Complex128[0.0; 1.0; 0.0] # start in 11 state\n",
    "\n",
    "cqs = CompositeQSystem([q0, q1])\n",
    "add_hamiltonian!(cqs, q0)\n",
    "# add rotating frame Hamiltonian shifts\n",
    "add_hamiltonian!(cqs, -q0.frequency*number(q0), q0)\n",
    "q1_freq = hamiltonian(q1, 0.0)[2,2]\n",
    "add_hamiltonian!(cqs, -q1_freq*number(q1), q1)\n",
    "\n",
    "diff_freq = q0.frequency - q1_freq\n",
    "add_hamiltonian!(cqs, rotating_flip_flop(q0, q1, 0.006, diff_freq), [q0,q1])\n",
    "add_hamiltonian!(cqs, flux_drive(q1, t -> amp*sin(2π*freq*t)), q1)\n",
    "\n",
    "ψs = unitary_state(cqs, times, ψ0);\n",
    "pop_11 = [abs2(ψ[5]) for ψ in ψs]\n",
    "pop_02 = [abs2(ψ[3]) for ψ in ψs];"
   ]
  },
  {
   "cell_type": "code",
   "execution_count": null,
   "metadata": {
    "scrolled": false
   },
   "outputs": [],
   "source": [
    "p = plot(times, pop_11, label=\"11\")\n",
    "plot!(p, times, pop_02, label=\"02\")"
   ]
  },
  {
   "cell_type": "markdown",
   "metadata": {},
   "source": [
    "# Two Qubit  Gates - Soft Shoulders\n",
    "\n",
    "Look at how soft shoulders distort the pulse shape.\n"
   ]
  },
  {
   "cell_type": "code",
   "execution_count": null,
   "metadata": {},
   "outputs": [],
   "source": [
    "q0 = FixedDuffingTransmon(\"q0\", 3.94015, -0.1807,  3)\n",
    "q1 = TunableDuffingTransmon(\"q1\",  0.172, 16.4, 0.55, 3)\n",
    "\n",
    "# should get an CZ02 interaction at ≈ 115 MHz\n",
    "freqs = 1e-3*(110:0.5:120)\n",
    "amp = 0.245\n",
    "risetime = 50\n",
    "times = collect(2*risetime:5:500)\n",
    "ψ0 = Complex128[0.0; 1.0; 0.0] ⊗ Complex128[0.0; 1.0; 0.0] # start in 11 state\n",
    "\n",
    "pop_11 = Float64[]\n",
    "pop_02 = Float64[]\n",
    "\n",
    "for tmax = times\n",
    "\n",
    "    # erfsquared pulse parameters\n",
    "    fwhm = 0.5 * risetime\n",
    "    t₁ = fwhm\n",
    "    t₂ = tmax - fwhm\n",
    "    σ = 0.5 * fwhm / sqrt(2*log(2))\n",
    "    erf_squared(t) = 0.5 * (erf((t - t₁)/σ) - erf((t - t₂)/σ) )\n",
    "\n",
    "    for freq = freqs\n",
    "        cqs = CompositeQSystem([q0, q1])\n",
    "        add_hamiltonian!(cqs, q0)\n",
    "        # add rotating frame Hamiltonian shifts\n",
    "        add_hamiltonian!(cqs, -q0.frequency*number(q0), q0)\n",
    "        q1_freq = hamiltonian(q1, 0.0)[2,2]\n",
    "        add_hamiltonian!(cqs, -q1_freq*number(q1), q1)\n",
    "\n",
    "        diff_freq = q0.frequency - q1_freq\n",
    "        add_hamiltonian!(cqs, rotating_flip_flop(q0, q1, 0.006, diff_freq), [q0,q1])\n",
    "\n",
    "        add_hamiltonian!(cqs, flux_drive(q1, t -> amp*erf_squared(t)*sin(2π*freq*t)), q1)\n",
    "\n",
    "        ψ = unitary_state(cqs, float(tmax), ψ0);\n",
    "        push!(pop_11, abs2(ψ[5]))\n",
    "        push!(pop_02, abs2(ψ[3]));\n",
    "    end\n",
    "end\n",
    "pop_11 = reshape(pop_11, length(freqs), length(times))\n",
    "pop_02 = reshape(pop_02, length(freqs), length(times));"
   ]
  },
  {
   "cell_type": "code",
   "execution_count": null,
   "metadata": {},
   "outputs": [],
   "source": [
    "p1 = contour(times, 1e3*freqs, pop_11, fill=true)\n",
    "xlabel!(p1, \"Frequency (MHz)\")\n",
    "ylabel!(p1, \"Time (ns)\")\n",
    "title!(p1, \"Population 11\")\n",
    "p2 = contour(times, 1e3*freqs, pop_02, fill=true)\n",
    "xlabel!(p2, \"Frequency (MHz)\")\n",
    "title!(p2,  \"Population 02\")\n",
    "plot(p1,p2, layout=(1,2), size=(800,400))"
   ]
  },
  {
   "cell_type": "markdown",
   "metadata": {},
   "source": [
    "# Pulse Amplitude Noise\n",
    "\n",
    "We can estimate the effect of fluctuations on the pulse amplitude with a Krauss map sum of unitaries weighted by a normal distribution.\n",
    "\n",
    "$$ \\mathcal{S}(\\rho) = \\sum_k \\lambda_k U_k\\rho U_k^\\dagger $$"
   ]
  },
  {
   "cell_type": "code",
   "execution_count": null,
   "metadata": {},
   "outputs": [],
   "source": [
    "# pick an operating point of the plots above\n",
    "\n",
    "freq = 115/1e3\n",
    "amp = 0.245\n",
    "tmax = 205\n",
    "\n",
    "q0 = FixedDuffingTransmon(\"q0\", 3.94015, -0.1807,  3)\n",
    "q1 = TunableDuffingTransmon(\"q1\",  0.172, 16.4, 0.55, 3)\n",
    "\n",
    "# should get an CZ02 interaction at ≈ 115 MHz\n",
    "ψ0 = Complex128[0.0; 1.0; 0.0] ⊗ Complex128[0.0; 1.0; 0.0] # start in 11 state\n",
    "\n",
    "risetime = 50\n",
    "fwhm = 0.5 * risetime\n",
    "t₁ = fwhm\n",
    "t₂ = tmax - fwhm\n",
    "σ = 0.5 * fwhm / sqrt(2*log(2))\n",
    "erf_squared(t) = 0.5 * (erf((t - t₁)/σ) - erf((t - t₂)/σ) )\n",
    "\n",
    "cqs = CompositeQSystem([q0, q1])\n",
    "add_hamiltonian!(cqs, q0)\n",
    "# add rotating frame Hamiltonian shifts\n",
    "add_hamiltonian!(cqs, -q0.frequency*number(q0), q0)\n",
    "q1_freq = hamiltonian(q1, 0.0)[2,2]\n",
    "add_hamiltonian!(cqs, -q1_freq*number(q1), q1)\n",
    "\n",
    "diff_freq = q0.frequency - q1_freq\n",
    "add_hamiltonian!(cqs, rotating_flip_flop(q0, q1, 0.006, diff_freq), [q0,q1])\n",
    "\n",
    "add_hamiltonian!(cqs, flux_drive(q1, t -> amp*erf_squared(t)*sin(2π*freq*t)), q1)\n",
    "\n",
    "U = unitary_propagator(cqs, float(tmax));"
   ]
  },
  {
   "cell_type": "code",
   "execution_count": null,
   "metadata": {},
   "outputs": [],
   "source": [
    "# project out to qubit subspace \n",
    "function project_qubit_subspace(U)\n",
    "    const basis_idx = [1,2,4,5]\n",
    "    U_proj = zeros(Complex128, (4,4))\n",
    "    for (ct1,idx1) = enumerate(basis_idx), (ct2,idx2) = enumerate(basis_idx)\n",
    "        U_proj[ct1,ct2] = U[idx1,idx2]\n",
    "    end\n",
    "    U_proj\n",
    "end\n",
    "U_proj = project_qubit_subspace(U)"
   ]
  },
  {
   "cell_type": "code",
   "execution_count": null,
   "metadata": {},
   "outputs": [],
   "source": [
    "import QuantumInfo: liou, avgfidelity, kraus2liou\n",
    "import Cliffords: Z\n",
    "using Optim"
   ]
  },
  {
   "cell_type": "code",
   "execution_count": null,
   "metadata": {},
   "outputs": [],
   "source": [
    "Zrot = θ -> expm(-1im * θ * π * Z)"
   ]
  },
  {
   "cell_type": "code",
   "execution_count": null,
   "metadata": {},
   "outputs": [],
   "source": [
    "CZ = diagm([1.0,1.0,1.0,-1.0])\n",
    "res = optimize(zs -> 1 - avgfidelity(liou((Zrot(zs[1]) ⊗ Zrot(zs[2])) * U_proj), liou(CZ)), [0.0, 0.0])"
   ]
  },
  {
   "cell_type": "code",
   "execution_count": null,
   "metadata": {},
   "outputs": [],
   "source": [
    "# pick an operating point of the plots above\n",
    "freq = 115/1e3\n",
    "amp = 0.245\n",
    "tmax = 205\n",
    "\n",
    "q0 = FixedDuffingTransmon(\"q0\", 3.94015, -0.1807,  3)\n",
    "q1 = TunableDuffingTransmon(\"q1\",  0.172, 16.4, 0.55, 3)\n",
    "\n",
    "# should get an CZ02 interaction at ≈ 115 MHz\n",
    "ψ0 = Complex128[0.0; 1.0; 0.0] ⊗ Complex128[0.0; 1.0; 0.0] # start in 11 state\n",
    "\n",
    "risetime = 50\n",
    "fwhm = 0.5 * risetime\n",
    "t₁ = fwhm\n",
    "t₂ = tmax - fwhm\n",
    "σ = 0.5 * fwhm / sqrt(2*log(2))\n",
    "erf_squared(t) = 0.5 * (erf((t - t₁)/σ) - erf((t - t₂)/σ) )\n",
    "\n",
    "Us = []\n",
    "\n",
    "amp_noises = linspace(-0.005,0.005,101)\n",
    "for amp_noise = amp_noises\n",
    "    cqs = CompositeQSystem([q0, q1])\n",
    "    add_hamiltonian!(cqs, q0)\n",
    "    # add rotating frame Hamiltonian shifts\n",
    "    add_hamiltonian!(cqs, -q0.frequency*number(q0), q0)\n",
    "    q1_freq = hamiltonian(q1, 0.0)[2,2]\n",
    "    add_hamiltonian!(cqs, -q1_freq*number(q1), q1)\n",
    "\n",
    "    diff_freq = q0.frequency - q1_freq\n",
    "    add_hamiltonian!(cqs, rotating_flip_flop(q0, q1, 0.006, diff_freq), [q0,q1])\n",
    "\n",
    "    add_hamiltonian!(cqs, flux_drive(q1, t -> amp*(1+amp_noise)*erf_squared(t)*sin(2π*freq*t)), q1)\n",
    "\n",
    "    push!(Us, unitary_propagator(cqs, float(tmax)));\n",
    "end\n",
    "z_corrs = res.minimizer\n",
    "Us = [project_qubit_subspace(U) for U = Us]\n",
    "Us = [Zrot(z_corrs[1]) ⊗ Zrot(z_corrs[2]) * U for U = Us];"
   ]
  },
  {
   "cell_type": "code",
   "execution_count": null,
   "metadata": {},
   "outputs": [],
   "source": [
    "p = plot(1+amp_noises, [avgfidelity(liou(U), liou(CZ)) for U = Us])\n",
    "xlabel!(p, \"Pulse Amplitude\")\n",
    "ylabel!(p, \"CZ Fidelity\")"
   ]
  },
  {
   "cell_type": "code",
   "execution_count": null,
   "metadata": {},
   "outputs": [],
   "source": [
    "σ = 0.0005\n",
    "distribution = exp.(-0.5*(amp_noises/σ).^2)\n",
    "scale!(distribution, 1/sum(distribution))\n",
    "plot(amp_noises, distribution)"
   ]
  },
  {
   "cell_type": "code",
   "execution_count": null,
   "metadata": {},
   "outputs": [],
   "source": [
    "fids = Float64[]\n",
    "sigmas = linspace(1e-4, 3e-3, 101)\n",
    "for σ = sigmas\n",
    "    distribution = exp.(-0.5*(amp_noises/σ).^2)\n",
    "    scale!(distribution, 1/sum(distribution))\n",
    "    fid = avgfidelity(kraus2liou([√λ*U for (λ,U) = zip(distribution, Us)]), liou(CZ))\n",
    "    push!(fids, fid)\n",
    "end\n",
    "p = plot(sigmas, fids)\n",
    "xlabel!(p, \"Relative Pulse Amplitude σ\")\n",
    "ylabel!(p, \"CZ Average Fidelity\")"
   ]
  },
  {
   "cell_type": "code",
   "execution_count": null,
   "metadata": {},
   "outputs": [],
   "source": []
  }
 ],
 "metadata": {
  "kernelspec": {
   "display_name": "Julia 0.6.2",
   "language": "julia",
   "name": "julia-0.6"
  },
  "language_info": {
   "file_extension": ".jl",
   "mimetype": "application/julia",
   "name": "julia",
   "version": "0.6.2"
  }
 },
 "nbformat": 4,
 "nbformat_minor": 2
}
